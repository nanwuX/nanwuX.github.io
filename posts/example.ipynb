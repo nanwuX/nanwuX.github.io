{
  "cells": [
    {
      "cell_type": "raw",
      "metadata": {},
      "source": [
        "---\n",
        "title: this\n",
        "---"
      ],
      "id": "8cf33ab0"
    },
    {
      "cell_type": "markdown",
      "metadata": {},
      "source": [
        "hello hello\n"
      ],
      "id": "0d9eb74e"
    },
    {
      "cell_type": "code",
      "metadata": {},
      "source": [
        "import numpy as np\n",
        "import matplotlib.pyplot as plt\n",
        "\n",
        "r = np.arange(0, 2, 0.01)\n",
        "theta = 2 * np.pi * r\n",
        "fig, ax = plt.subplots(\n",
        "    subplot_kw = {'projection': 'polar'}\n",
        ")\n",
        "ax.plot(theta, r)\n",
        "ax.set_rticks([0.5, 1, 1.5, 2])\n",
        "ax.grid(True)\n",
        "plt.show()"
      ],
      "id": "3172fa54",
      "execution_count": null,
      "outputs": []
    }
  ],
  "metadata": {
    "kernelspec": {
      "name": "ds",
      "language": "python",
      "display_name": "ds"
    }
  },
  "nbformat": 4,
  "nbformat_minor": 5
}